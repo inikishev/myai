{
 "cells": [
  {
   "cell_type": "code",
   "execution_count": 1,
   "metadata": {},
   "outputs": [],
   "source": [
    "from myai.imports import *\n",
    "from torchvision.datasets import CIFAR10"
   ]
  },
  {
   "cell_type": "code",
   "execution_count": 2,
   "metadata": {},
   "outputs": [
    {
     "name": "stderr",
     "output_type": "stream",
     "text": [
      "d:\\miniconda3\\envs\\pytorch312\\Lib\\site-packages\\torchvision\\transforms\\v2\\_deprecated.py:42: UserWarning: The transform `ToTensor()` is deprecated and will be removed in a future release. Instead, please use `v2.Compose([v2.ToImage(), v2.ToDtype(torch.float32, scale=True)])`.Output is equivalent up to float precision.\n",
      "  warnings.warn(\n"
     ]
    },
    {
     "name": "stdout",
     "output_type": "stream",
     "text": [
      "Files already downloaded and verified\n",
      "Files already downloaded and verified\n",
      "50000\n"
     ]
    }
   ],
   "source": [
    "ds = CIFAR10(root = r'E:\\datasets\\CIFAR10', transform=v2.Compose([v2.ToTensor(), v2.ToDtype(torch.float32)]), download=True)\n",
    "ds2 = CIFAR10(root = r'E:\\datasets\\CIFAR10', transform=v2.Compose([v2.ToTensor(), v2.ToDtype(torch.float32)]), download=True, train=False)\n",
    "print(len(ds))"
   ]
  },
  {
   "cell_type": "code",
   "execution_count": 3,
   "metadata": {},
   "outputs": [
    {
     "name": "stdout",
     "output_type": "stream",
     "text": [
      "torch.Size([60000, 3, 32, 32]) torch.Size([60000])\n",
      "mean = tensor([[[[0.4919]],\n",
      "\n",
      "         [[0.4827]],\n",
      "\n",
      "         [[0.4472]]]])\n",
      "std = tensor([[[[0.2470]],\n",
      "\n",
      "         [[0.2434]],\n",
      "\n",
      "         [[0.2616]]]])\n",
      "images.mean() = tensor(-1.3872e-06)\n",
      "images.std() = tensor(1.)\n"
     ]
    }
   ],
   "source": [
    "images = torch.stack([i[0] for i in ds] + [i[0] for i in ds2])\n",
    "labels = torch.tensor([i[1] for i in ds] + [i[1] for i in ds2], dtype=torch.float32)\n",
    "print(images.shape, labels.shape)\n",
    "\n",
    "mean = images.mean((0, 2,3), keepdim=True)\n",
    "std = images.std((0, 2,3), keepdim=True)\n",
    "\n",
    "print(f'{mean = }')\n",
    "print(f'{std = }')\n",
    "\n",
    "images -= mean\n",
    "images /= std\n",
    "\n",
    "print(f'{images.mean() = }')\n",
    "print(f'{images.std() = }')"
   ]
  },
  {
   "cell_type": "code",
   "execution_count": null,
   "metadata": {},
   "outputs": [
    {
     "name": "stdout",
     "output_type": "stream",
     "text": [
      "Context took 61.455495399888605 perf_counter seconds\n"
     ]
    }
   ],
   "source": [
    "with perf_counter_context():\n",
    "    np.savez_compressed(r'E:\\datasets\\CIFAR10\\CIFAR10.npz', images=images, labels = labels)"
   ]
  }
 ],
 "metadata": {
  "kernelspec": {
   "display_name": "pytorch312",
   "language": "python",
   "name": "python3"
  },
  "language_info": {
   "codemirror_mode": {
    "name": "ipython",
    "version": 3
   },
   "file_extension": ".py",
   "mimetype": "text/x-python",
   "name": "python",
   "nbconvert_exporter": "python",
   "pygments_lexer": "ipython3",
   "version": "3.12.3"
  }
 },
 "nbformat": 4,
 "nbformat_minor": 2
}
