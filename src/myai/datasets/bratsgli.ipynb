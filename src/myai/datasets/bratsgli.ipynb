{
 "cells": [
  {
   "cell_type": "code",
   "execution_count": 1,
   "metadata": {},
   "outputs": [],
   "source": [
    "from myai.imports import *\n",
    "\n",
    "import joblib\n",
    "import torch\n",
    "from torchvision.datasets import MNIST\n",
    "from torchvision.transforms import v2\n",
    "from myai.data import DS\n",
    "from myai.datasets.mrislicer_utils import load_old_mrislicer_dataset\n",
    "\n",
    "import mrid\n",
    "from mrid.training.mri_slicer import MRISlicer\n"
   ]
  },
  {
   "cell_type": "code",
   "execution_count": 10,
   "metadata": {},
   "outputs": [
    {
     "name": "stdout",
     "output_type": "stream",
     "text": [
      "25\n"
     ]
    }
   ],
   "source": [
    "dataset = load_old_mrislicer_dataset(r\"E:\\dataset\\glio\\BraTS-GLI v2\\brats-gli 75-100.joblib\", 5, 1, 0.1, True)\n",
    "print(len(dataset))"
   ]
  },
  {
   "cell_type": "code",
   "execution_count": 11,
   "metadata": {},
   "outputs": [
    {
     "data": {
      "text/plain": [
       "['E:\\\\dataset\\\\glio\\\\BraTS-GLI v2\\\\brats-gli 75-100 new.joblib']"
      ]
     },
     "execution_count": 11,
     "metadata": {},
     "output_type": "execute_result"
    }
   ],
   "source": [
    "joblib.dump(dataset, r\"E:\\dataset\\glio\\BraTS-GLI v2\\brats-gli 75-100 new.joblib\", compress=3)"
   ]
  }
 ],
 "metadata": {
  "kernelspec": {
   "display_name": "pytorch312",
   "language": "python",
   "name": "python3"
  },
  "language_info": {
   "codemirror_mode": {
    "name": "ipython",
    "version": 3
   },
   "file_extension": ".py",
   "mimetype": "text/x-python",
   "name": "python",
   "nbconvert_exporter": "python",
   "pygments_lexer": "ipython3",
   "version": "3.12.3"
  }
 },
 "nbformat": 4,
 "nbformat_minor": 2
}
